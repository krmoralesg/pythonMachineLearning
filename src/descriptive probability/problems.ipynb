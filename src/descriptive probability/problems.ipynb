{
    "cells": [
        {
            "cell_type": "markdown",
            "id": "ac622319",
            "metadata": {},
            "source": [
                "# Descriptive statistics problems"
            ]
        },
        {
            "cell_type": "markdown",
            "id": "aa8993e4",
            "metadata": {},
            "source": [
                "### Exercise 1"
            ]
        },
        {
            "cell_type": "markdown",
            "id": "5e0ab0d5",
            "metadata": {},
            "source": [
                "We will use Numpy to obtain information to describe statistically.\n",
                "\n",
                "- Generate an array of 100 elements following a normal distribution.\n",
                "- Generate an array of 100 elements following a chi-square distribution with 3 degrees of freedom.\n",
                "- Calculate the main metrics and statistical measures that best describe the two vectors."
            ]
        },
        {
            "cell_type": "code",
            "execution_count": 3,
            "id": "34720ab6",
            "metadata": {},
            "outputs": [
                {
                    "name": "stdout",
                    "output_type": "stream",
                    "text": [
                        "La media de s es: -0.0022335290305502448 Y la media de a es: 3.476029630186919\n",
                        "La mediana de s es: -0.003178563715591956 Y la mediana de a es: 2.9137893771810512\n",
                        "La desviacion de s es: 0.10596909203540135 Y la desviacion de a es: 2.671567055769504\n",
                        " La moda es: 0.009027310241936959\n",
                        "La moda de chi es: 0.37944482948811353\n"
                    ]
                }
            ],
            "source": [
                "import numpy as np\n",
                "import statistics as stats\n",
                "mu, sigma = 0, 0.1\n",
                "s = np.random.normal(mu, sigma, 100)\n",
                "a = np.random.chisquare(3,100)\n",
                "media_s = np.mean(s)\n",
                "media_a = np.mean(a)\n",
                "print(f\"La media de s es:\",media_s,\"Y la media de a es:\", media_a)\n",
                "\n",
                "\n",
                "mediana_s = np.median(s)\n",
                "mediana_a = np.median(a)\n",
                "print(f\"La mediana de s es:\",mediana_s,\"Y la mediana de a es:\", mediana_a)\n",
                "\n",
                "desviacion_s = np.std(s)\n",
                "desviacion_a = np.std(a)\n",
                "print(f\"La desviacion de s es:\",desviacion_s,\"Y la desviacion de a es:\", desviacion_a)\n",
                "\n",
                "print(f\" La moda es: {stats.mode(s)}\")\n",
                "print(f\"La moda de chi es: {stats.mode(a)}\")\n",
                "\n"
            ]
        },
        {
            "cell_type": "markdown",
            "id": "46c70c3d",
            "metadata": {},
            "source": [
                "### Exercise 2\n",
                "\n",
                "Write a Python program to calculate the standard deviation of the following data:\n",
                "\n",
                "```py\n",
                "data = [4, 2, 5, 8, 6]\n",
                "```"
            ]
        },
        {
            "cell_type": "code",
            "execution_count": 13,
            "id": "d590308e",
            "metadata": {},
            "outputs": [
                {
                    "name": "stdout",
                    "output_type": "stream",
                    "text": [
                        "2.0\n"
                    ]
                }
            ],
            "source": [
                "data = [4,2,5,8,6]\n",
                "media = sum(data)/len(data) # Media de data\n",
                "\n",
                "# Distancia a la media (Al cuadrado)\n",
                "total = 0\n",
                "\n",
                "for i in data:\n",
                "    distancia = (i - media)**2\n",
                "    total += distancia\n",
                "    resultado = (total/len(data))**0.5\n",
                "\n",
                "print (resultado)"
            ]
        }
    ],
    "metadata": {
        "interpreter": {
            "hash": "9248718ffe6ce6938b217e69dbcc175ea21f4c6b28a317e96c05334edae734bb"
        },
        "kernelspec": {
            "display_name": "Python 3.9.12 ('ML-BOOTCAMP')",
            "language": "python",
            "name": "python3"
        },
        "language_info": {
            "codemirror_mode": {
                "name": "ipython",
                "version": 3
            },
            "file_extension": ".py",
            "mimetype": "text/x-python",
            "name": "python",
            "nbconvert_exporter": "python",
            "pygments_lexer": "ipython3",
            "version": "3.11.4"
        }
    },
    "nbformat": 4,
    "nbformat_minor": 5
}
